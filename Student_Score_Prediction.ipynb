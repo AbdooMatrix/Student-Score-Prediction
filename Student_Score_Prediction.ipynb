{
 "cells": [
  {
   "metadata": {},
   "cell_type": "markdown",
   "source": [
    "# 🎓 Student Score Prediction\n",
    "\n",
    "Predict students’ exam scores using study hours and other factors.\n",
    "Tools: Python, Pandas, Matplotlib, Scikit-learn\n",
    "Evaluation: MAE, MSE, RMSE, R²"
   ],
   "id": "b427abeb60e65c95"
  },
  {
   "metadata": {},
   "cell_type": "markdown",
   "source": "## 📦 Step 1: Import Libraries\n",
   "id": "c71e8b61c979bba2"
  },
  {
   "metadata": {
    "ExecuteTime": {
     "end_time": "2025-09-22T19:52:49.343498Z",
     "start_time": "2025-09-22T19:52:48.069796Z"
    }
   },
   "cell_type": "code",
   "source": [
    "import numpy as np\n",
    "import pandas as pd\n",
    "from matplotlib import pyplot as plt\n",
    "from sklearn.model_selection import train_test_split\n",
    "from sklearn.preprocessing import StandardScaler\n",
    "from sklearn.linear_model import LinearRegression\n",
    "from sklearn.metrics import mean_absolute_error, mean_squared_error, r2_score\n",
    "from sklearn.model_selection import cross_val_score"
   ],
   "id": "140fa46c176aabea",
   "outputs": [],
   "execution_count": 1
  },
  {
   "metadata": {},
   "cell_type": "markdown",
   "source": "### Methods to use later",
   "id": "ec6ecf53d8014051"
  },
  {
   "metadata": {
    "ExecuteTime": {
     "end_time": "2025-09-22T19:52:49.352887Z",
     "start_time": "2025-09-22T19:52:49.349866Z"
    }
   },
   "cell_type": "code",
   "source": [
    "def get_uniques(df, columns):\n",
    "    return {column: list (df[column].unique()) for column in columns}"
   ],
   "id": "3770bb491a293f41",
   "outputs": [],
   "execution_count": 2
  },
  {
   "metadata": {
    "ExecuteTime": {
     "end_time": "2025-09-22T19:52:49.391794Z",
     "start_time": "2025-09-22T19:52:49.389129Z"
    }
   },
   "cell_type": "code",
   "source": [
    "def get_categorical_columns(df):\n",
    "    return [column for column in df.columns if df.dtypes[column] == 'object']"
   ],
   "id": "4d7a520dd7064643",
   "outputs": [],
   "execution_count": 3
  },
  {
   "metadata": {
    "ExecuteTime": {
     "end_time": "2025-09-22T19:52:49.415485Z",
     "start_time": "2025-09-22T19:52:49.412784Z"
    }
   },
   "cell_type": "code",
   "source": [
    "def fill_cols_with_nan(df):\n",
    "    columns = get_categorical_columns(df)\n",
    "    for column in columns:\n",
    "        df[column] = df[column].fillna(\"Unknown\")"
   ],
   "id": "6ec5c3b1d3e90412",
   "outputs": [],
   "execution_count": 4
  },
  {
   "metadata": {
    "ExecuteTime": {
     "end_time": "2025-09-22T19:52:49.454046Z",
     "start_time": "2025-09-22T19:52:49.450354Z"
    }
   },
   "cell_type": "code",
   "source": [
    "def binary_encode(df, column, postive_value):\n",
    "    df =  df.copy()\n",
    "    df[column] = df[column].apply(lambda x: 1 if x == postive_value else 0)\n",
    "    return df"
   ],
   "id": "d37436146000420a",
   "outputs": [],
   "execution_count": 5
  },
  {
   "metadata": {
    "ExecuteTime": {
     "end_time": "2025-09-22T19:52:49.486574Z",
     "start_time": "2025-09-22T19:52:49.483564Z"
    }
   },
   "cell_type": "code",
   "source": [
    "def ordinal_encode(df, column, ordering):\n",
    "    df =  df.copy()\n",
    "    df[column] = df[column].apply(lambda x: ordering.index(x))\n",
    "    return df"
   ],
   "id": "1e38cc6404b2fa2",
   "outputs": [],
   "execution_count": 6
  },
  {
   "metadata": {
    "ExecuteTime": {
     "end_time": "2025-09-22T19:52:49.519289Z",
     "start_time": "2025-09-22T19:52:49.515635Z"
    }
   },
   "cell_type": "code",
   "source": [
    "def onehot_encode(df, column, prefix):\n",
    "    df = df.copy()\n",
    "    dummies = pd.get_dummies(df[column], prefix=prefix)\n",
    "    df = pd.concat([df, dummies], axis=1)\n",
    "    df.drop(column, axis=1, inplace=True)\n",
    "    return df"
   ],
   "id": "f44689eb330d2abc",
   "outputs": [],
   "execution_count": 7
  },
  {
   "metadata": {},
   "cell_type": "markdown",
   "source": "## 📂 Step 2: Load Dataset & Quick Overview\n",
   "id": "a95089e38f0d2b1d"
  },
  {
   "metadata": {
    "ExecuteTime": {
     "end_time": "2025-09-22T19:52:49.570407Z",
     "start_time": "2025-09-22T19:52:49.542429Z"
    }
   },
   "cell_type": "code",
   "source": [
    "student_score_df = pd.read_csv(\"data/raw/StudentPerformanceFactors.csv\")\n",
    "student_score_df.head()"
   ],
   "id": "265ae63051d6e28",
   "outputs": [
    {
     "data": {
      "text/plain": [
       "   Hours_Studied  Attendance Parental_Involvement Access_to_Resources  \\\n",
       "0             23          84                  Low                High   \n",
       "1             19          64                  Low              Medium   \n",
       "2             24          98               Medium              Medium   \n",
       "3             29          89                  Low              Medium   \n",
       "4             19          92               Medium              Medium   \n",
       "\n",
       "  Extracurricular_Activities  Sleep_Hours  Previous_Scores Motivation_Level  \\\n",
       "0                         No            7               73              Low   \n",
       "1                         No            8               59              Low   \n",
       "2                        Yes            7               91           Medium   \n",
       "3                        Yes            8               98           Medium   \n",
       "4                        Yes            6               65           Medium   \n",
       "\n",
       "  Internet_Access  Tutoring_Sessions Family_Income Teacher_Quality  \\\n",
       "0             Yes                  0           Low          Medium   \n",
       "1             Yes                  2        Medium          Medium   \n",
       "2             Yes                  2        Medium          Medium   \n",
       "3             Yes                  1        Medium          Medium   \n",
       "4             Yes                  3        Medium            High   \n",
       "\n",
       "  School_Type Peer_Influence  Physical_Activity Learning_Disabilities  \\\n",
       "0      Public       Positive                  3                    No   \n",
       "1      Public       Negative                  4                    No   \n",
       "2      Public        Neutral                  4                    No   \n",
       "3      Public       Negative                  4                    No   \n",
       "4      Public        Neutral                  4                    No   \n",
       "\n",
       "  Parental_Education_Level Distance_from_Home  Gender  Exam_Score  \n",
       "0              High School               Near    Male          67  \n",
       "1                  College           Moderate  Female          61  \n",
       "2             Postgraduate               Near    Male          74  \n",
       "3              High School           Moderate    Male          71  \n",
       "4                  College               Near  Female          70  "
      ],
      "text/html": [
       "<div>\n",
       "<style scoped>\n",
       "    .dataframe tbody tr th:only-of-type {\n",
       "        vertical-align: middle;\n",
       "    }\n",
       "\n",
       "    .dataframe tbody tr th {\n",
       "        vertical-align: top;\n",
       "    }\n",
       "\n",
       "    .dataframe thead th {\n",
       "        text-align: right;\n",
       "    }\n",
       "</style>\n",
       "<table border=\"1\" class=\"dataframe\">\n",
       "  <thead>\n",
       "    <tr style=\"text-align: right;\">\n",
       "      <th></th>\n",
       "      <th>Hours_Studied</th>\n",
       "      <th>Attendance</th>\n",
       "      <th>Parental_Involvement</th>\n",
       "      <th>Access_to_Resources</th>\n",
       "      <th>Extracurricular_Activities</th>\n",
       "      <th>Sleep_Hours</th>\n",
       "      <th>Previous_Scores</th>\n",
       "      <th>Motivation_Level</th>\n",
       "      <th>Internet_Access</th>\n",
       "      <th>Tutoring_Sessions</th>\n",
       "      <th>Family_Income</th>\n",
       "      <th>Teacher_Quality</th>\n",
       "      <th>School_Type</th>\n",
       "      <th>Peer_Influence</th>\n",
       "      <th>Physical_Activity</th>\n",
       "      <th>Learning_Disabilities</th>\n",
       "      <th>Parental_Education_Level</th>\n",
       "      <th>Distance_from_Home</th>\n",
       "      <th>Gender</th>\n",
       "      <th>Exam_Score</th>\n",
       "    </tr>\n",
       "  </thead>\n",
       "  <tbody>\n",
       "    <tr>\n",
       "      <th>0</th>\n",
       "      <td>23</td>\n",
       "      <td>84</td>\n",
       "      <td>Low</td>\n",
       "      <td>High</td>\n",
       "      <td>No</td>\n",
       "      <td>7</td>\n",
       "      <td>73</td>\n",
       "      <td>Low</td>\n",
       "      <td>Yes</td>\n",
       "      <td>0</td>\n",
       "      <td>Low</td>\n",
       "      <td>Medium</td>\n",
       "      <td>Public</td>\n",
       "      <td>Positive</td>\n",
       "      <td>3</td>\n",
       "      <td>No</td>\n",
       "      <td>High School</td>\n",
       "      <td>Near</td>\n",
       "      <td>Male</td>\n",
       "      <td>67</td>\n",
       "    </tr>\n",
       "    <tr>\n",
       "      <th>1</th>\n",
       "      <td>19</td>\n",
       "      <td>64</td>\n",
       "      <td>Low</td>\n",
       "      <td>Medium</td>\n",
       "      <td>No</td>\n",
       "      <td>8</td>\n",
       "      <td>59</td>\n",
       "      <td>Low</td>\n",
       "      <td>Yes</td>\n",
       "      <td>2</td>\n",
       "      <td>Medium</td>\n",
       "      <td>Medium</td>\n",
       "      <td>Public</td>\n",
       "      <td>Negative</td>\n",
       "      <td>4</td>\n",
       "      <td>No</td>\n",
       "      <td>College</td>\n",
       "      <td>Moderate</td>\n",
       "      <td>Female</td>\n",
       "      <td>61</td>\n",
       "    </tr>\n",
       "    <tr>\n",
       "      <th>2</th>\n",
       "      <td>24</td>\n",
       "      <td>98</td>\n",
       "      <td>Medium</td>\n",
       "      <td>Medium</td>\n",
       "      <td>Yes</td>\n",
       "      <td>7</td>\n",
       "      <td>91</td>\n",
       "      <td>Medium</td>\n",
       "      <td>Yes</td>\n",
       "      <td>2</td>\n",
       "      <td>Medium</td>\n",
       "      <td>Medium</td>\n",
       "      <td>Public</td>\n",
       "      <td>Neutral</td>\n",
       "      <td>4</td>\n",
       "      <td>No</td>\n",
       "      <td>Postgraduate</td>\n",
       "      <td>Near</td>\n",
       "      <td>Male</td>\n",
       "      <td>74</td>\n",
       "    </tr>\n",
       "    <tr>\n",
       "      <th>3</th>\n",
       "      <td>29</td>\n",
       "      <td>89</td>\n",
       "      <td>Low</td>\n",
       "      <td>Medium</td>\n",
       "      <td>Yes</td>\n",
       "      <td>8</td>\n",
       "      <td>98</td>\n",
       "      <td>Medium</td>\n",
       "      <td>Yes</td>\n",
       "      <td>1</td>\n",
       "      <td>Medium</td>\n",
       "      <td>Medium</td>\n",
       "      <td>Public</td>\n",
       "      <td>Negative</td>\n",
       "      <td>4</td>\n",
       "      <td>No</td>\n",
       "      <td>High School</td>\n",
       "      <td>Moderate</td>\n",
       "      <td>Male</td>\n",
       "      <td>71</td>\n",
       "    </tr>\n",
       "    <tr>\n",
       "      <th>4</th>\n",
       "      <td>19</td>\n",
       "      <td>92</td>\n",
       "      <td>Medium</td>\n",
       "      <td>Medium</td>\n",
       "      <td>Yes</td>\n",
       "      <td>6</td>\n",
       "      <td>65</td>\n",
       "      <td>Medium</td>\n",
       "      <td>Yes</td>\n",
       "      <td>3</td>\n",
       "      <td>Medium</td>\n",
       "      <td>High</td>\n",
       "      <td>Public</td>\n",
       "      <td>Neutral</td>\n",
       "      <td>4</td>\n",
       "      <td>No</td>\n",
       "      <td>College</td>\n",
       "      <td>Near</td>\n",
       "      <td>Female</td>\n",
       "      <td>70</td>\n",
       "    </tr>\n",
       "  </tbody>\n",
       "</table>\n",
       "</div>"
      ]
     },
     "execution_count": 8,
     "metadata": {},
     "output_type": "execute_result"
    }
   ],
   "execution_count": 8
  },
  {
   "metadata": {
    "ExecuteTime": {
     "end_time": "2025-09-22T19:52:49.624288Z",
     "start_time": "2025-09-22T19:52:49.614484Z"
    }
   },
   "cell_type": "code",
   "source": "student_score_df.info()",
   "id": "ebcec7ba65c12f58",
   "outputs": [
    {
     "name": "stdout",
     "output_type": "stream",
     "text": [
      "<class 'pandas.core.frame.DataFrame'>\n",
      "RangeIndex: 6607 entries, 0 to 6606\n",
      "Data columns (total 20 columns):\n",
      " #   Column                      Non-Null Count  Dtype \n",
      "---  ------                      --------------  ----- \n",
      " 0   Hours_Studied               6607 non-null   int64 \n",
      " 1   Attendance                  6607 non-null   int64 \n",
      " 2   Parental_Involvement        6607 non-null   object\n",
      " 3   Access_to_Resources         6607 non-null   object\n",
      " 4   Extracurricular_Activities  6607 non-null   object\n",
      " 5   Sleep_Hours                 6607 non-null   int64 \n",
      " 6   Previous_Scores             6607 non-null   int64 \n",
      " 7   Motivation_Level            6607 non-null   object\n",
      " 8   Internet_Access             6607 non-null   object\n",
      " 9   Tutoring_Sessions           6607 non-null   int64 \n",
      " 10  Family_Income               6607 non-null   object\n",
      " 11  Teacher_Quality             6529 non-null   object\n",
      " 12  School_Type                 6607 non-null   object\n",
      " 13  Peer_Influence              6607 non-null   object\n",
      " 14  Physical_Activity           6607 non-null   int64 \n",
      " 15  Learning_Disabilities       6607 non-null   object\n",
      " 16  Parental_Education_Level    6517 non-null   object\n",
      " 17  Distance_from_Home          6540 non-null   object\n",
      " 18  Gender                      6607 non-null   object\n",
      " 19  Exam_Score                  6607 non-null   int64 \n",
      "dtypes: int64(7), object(13)\n",
      "memory usage: 1.0+ MB\n"
     ]
    }
   ],
   "execution_count": 9
  },
  {
   "metadata": {
    "ExecuteTime": {
     "end_time": "2025-09-22T19:52:49.750099Z",
     "start_time": "2025-09-22T19:52:49.740279Z"
    }
   },
   "cell_type": "code",
   "source": "student_score_df.isna().sum()",
   "id": "1fccaf9a11cb5ec9",
   "outputs": [
    {
     "data": {
      "text/plain": [
       "Hours_Studied                  0\n",
       "Attendance                     0\n",
       "Parental_Involvement           0\n",
       "Access_to_Resources            0\n",
       "Extracurricular_Activities     0\n",
       "Sleep_Hours                    0\n",
       "Previous_Scores                0\n",
       "Motivation_Level               0\n",
       "Internet_Access                0\n",
       "Tutoring_Sessions              0\n",
       "Family_Income                  0\n",
       "Teacher_Quality               78\n",
       "School_Type                    0\n",
       "Peer_Influence                 0\n",
       "Physical_Activity              0\n",
       "Learning_Disabilities          0\n",
       "Parental_Education_Level      90\n",
       "Distance_from_Home            67\n",
       "Gender                         0\n",
       "Exam_Score                     0\n",
       "dtype: int64"
      ]
     },
     "execution_count": 10,
     "metadata": {},
     "output_type": "execute_result"
    }
   ],
   "execution_count": 10
  },
  {
   "metadata": {},
   "cell_type": "markdown",
   "source": "## 📊 Step 3: Data Cleaning & Exploratory Data Analysis\n",
   "id": "4ceee8cee4729eee"
  },
  {
   "metadata": {
    "ExecuteTime": {
     "end_time": "2025-09-22T19:52:49.895437Z",
     "start_time": "2025-09-22T19:52:49.886775Z"
    }
   },
   "cell_type": "code",
   "source": "get_uniques(student_score_df, get_categorical_columns(student_score_df))",
   "id": "c032b73f7b28119c",
   "outputs": [
    {
     "data": {
      "text/plain": [
       "{'Parental_Involvement': ['Low', 'Medium', 'High'],\n",
       " 'Access_to_Resources': ['High', 'Medium', 'Low'],\n",
       " 'Extracurricular_Activities': ['No', 'Yes'],\n",
       " 'Motivation_Level': ['Low', 'Medium', 'High'],\n",
       " 'Internet_Access': ['Yes', 'No'],\n",
       " 'Family_Income': ['Low', 'Medium', 'High'],\n",
       " 'Teacher_Quality': ['Medium', 'High', 'Low', nan],\n",
       " 'School_Type': ['Public', 'Private'],\n",
       " 'Peer_Influence': ['Positive', 'Negative', 'Neutral'],\n",
       " 'Learning_Disabilities': ['No', 'Yes'],\n",
       " 'Parental_Education_Level': ['High School', 'College', 'Postgraduate', nan],\n",
       " 'Distance_from_Home': ['Near', 'Moderate', 'Far', nan],\n",
       " 'Gender': ['Male', 'Female']}"
      ]
     },
     "execution_count": 11,
     "metadata": {},
     "output_type": "execute_result"
    }
   ],
   "execution_count": 11
  },
  {
   "metadata": {
    "ExecuteTime": {
     "end_time": "2025-09-22T19:52:49.987075Z",
     "start_time": "2025-09-22T19:52:49.983640Z"
    }
   },
   "cell_type": "code",
   "source": [
    "binary_features = ['Extracurricular_Activities', 'Internet_Access', 'School_Type', 'Learning_Disabilities', 'Gender']\n",
    "\n",
    "ordinal_features = ['Parental_Involvement', 'Access_to_Resources', 'Motivation_Level', 'Family_Income', 'Teacher_Quality',\n",
    "                    'Parental_Education_Level', 'Distance_from_Home', 'Peer_Influence']\n",
    "\n",
    "target_column = 'Exam_Score'\n"
   ],
   "id": "68cb6715970ca722",
   "outputs": [],
   "execution_count": 12
  },
  {
   "metadata": {
    "ExecuteTime": {
     "end_time": "2025-09-22T19:52:50.036990Z",
     "start_time": "2025-09-22T19:52:50.019908Z"
    }
   },
   "cell_type": "code",
   "source": [
    "fill_cols_with_nan(student_score_df)\n",
    "get_uniques(student_score_df, get_categorical_columns(student_score_df))"
   ],
   "id": "c1b993cc21ec9664",
   "outputs": [
    {
     "data": {
      "text/plain": [
       "{'Parental_Involvement': ['Low', 'Medium', 'High'],\n",
       " 'Access_to_Resources': ['High', 'Medium', 'Low'],\n",
       " 'Extracurricular_Activities': ['No', 'Yes'],\n",
       " 'Motivation_Level': ['Low', 'Medium', 'High'],\n",
       " 'Internet_Access': ['Yes', 'No'],\n",
       " 'Family_Income': ['Low', 'Medium', 'High'],\n",
       " 'Teacher_Quality': ['Medium', 'High', 'Low', 'Unknown'],\n",
       " 'School_Type': ['Public', 'Private'],\n",
       " 'Peer_Influence': ['Positive', 'Negative', 'Neutral'],\n",
       " 'Learning_Disabilities': ['No', 'Yes'],\n",
       " 'Parental_Education_Level': ['High School',\n",
       "  'College',\n",
       "  'Postgraduate',\n",
       "  'Unknown'],\n",
       " 'Distance_from_Home': ['Near', 'Moderate', 'Far', 'Unknown'],\n",
       " 'Gender': ['Male', 'Female']}"
      ]
     },
     "execution_count": 13,
     "metadata": {},
     "output_type": "execute_result"
    }
   ],
   "execution_count": 13
  },
  {
   "metadata": {
    "ExecuteTime": {
     "end_time": "2025-09-22T19:52:50.075441Z",
     "start_time": "2025-09-22T19:52:50.070247Z"
    }
   },
   "cell_type": "code",
   "source": [
    "binary_positive_values = ['Yes', 'Yes', 'Private', 'Yes', 'Male']\n",
    "\n",
    "ordinal_orderings = {\n",
    "    'Parental_Involvement': ['Low', 'Medium', 'High'],\n",
    "    'Access_to_Resources': ['Low', 'Medium', 'High'],\n",
    "    'Motivation_Level': ['Low', 'Medium', 'High'],\n",
    "    'Family_Income': ['Low', 'Medium', 'High'],\n",
    "    'Teacher_Quality': ['Unknown', 'Low', 'Medium', 'High'],\n",
    "    'Parental_Education_Level': ['Unknown', 'High School', 'College', 'Postgraduate'],\n",
    "    'Distance_from_Home': ['Unknown', 'Near', 'Moderate', 'Far'],\n",
    "    'Peer_Influence': ['Negative', 'Neutral', 'Positive']\n",
    "}"
   ],
   "id": "625892f0755cbb1d",
   "outputs": [],
   "execution_count": 14
  },
  {
   "metadata": {
    "ExecuteTime": {
     "end_time": "2025-09-22T19:52:50.121916Z",
     "start_time": "2025-09-22T19:52:50.098262Z"
    }
   },
   "cell_type": "code",
   "source": [
    "for feature, positive_value in zip(binary_features, binary_positive_values):\n",
    "    student_score_df = binary_encode(student_score_df, feature, positive_value)"
   ],
   "id": "dfdb97ad9c1fc1d7",
   "outputs": [],
   "execution_count": 15
  },
  {
   "metadata": {
    "ExecuteTime": {
     "end_time": "2025-09-22T19:52:50.162990Z",
     "start_time": "2025-09-22T19:52:50.135655Z"
    }
   },
   "cell_type": "code",
   "source": [
    "for feature, ordering in ordinal_orderings.items():\n",
    "    student_score_df = ordinal_encode(student_score_df, feature, ordering)"
   ],
   "id": "18797e8343ba6432",
   "outputs": [],
   "execution_count": 16
  },
  {
   "metadata": {},
   "cell_type": "markdown",
   "source": "## ✂️ Step 4: Train-Test Split\n",
   "id": "207628c0f88c3cc5"
  },
  {
   "metadata": {
    "ExecuteTime": {
     "end_time": "2025-09-22T19:52:50.172286Z",
     "start_time": "2025-09-22T19:52:50.168714Z"
    }
   },
   "cell_type": "code",
   "source": [
    "y = student_score_df[target_column]\n",
    "X = student_score_df.drop(target_column, axis=1)"
   ],
   "id": "9d72cd9403593fd9",
   "outputs": [],
   "execution_count": 17
  },
  {
   "metadata": {
    "ExecuteTime": {
     "end_time": "2025-09-22T19:52:50.206158Z",
     "start_time": "2025-09-22T19:52:50.198667Z"
    }
   },
   "cell_type": "code",
   "source": "X_train, X_test, y_train, y_test = train_test_split(X, y , test_size=0.2, random_state=42)",
   "id": "46bb2e36dfe09372",
   "outputs": [],
   "execution_count": 18
  },
  {
   "metadata": {
    "ExecuteTime": {
     "end_time": "2025-09-22T19:52:50.243449Z",
     "start_time": "2025-09-22T19:52:50.232899Z"
    }
   },
   "cell_type": "code",
   "source": [
    "scaler = StandardScaler()\n",
    "\n",
    "X_train = scaler.fit_transform(X_train)\n",
    "X_test = scaler.fit_transform(X_test)"
   ],
   "id": "cdfd841d3a151c02",
   "outputs": [],
   "execution_count": 19
  },
  {
   "metadata": {},
   "cell_type": "markdown",
   "source": "## 🤖 Step 5: Training\n",
   "id": "f9789bfb8d1aa03c"
  },
  {
   "metadata": {
    "ExecuteTime": {
     "end_time": "2025-09-22T19:52:50.263222Z",
     "start_time": "2025-09-22T19:52:50.250417Z"
    }
   },
   "cell_type": "code",
   "source": [
    "lin_reg = LinearRegression()\n",
    "\n",
    "lin_reg.fit(X_train, y_train)\n",
    "\n",
    "y_pred = lin_reg.predict(X_test)"
   ],
   "id": "ccc3b754bde893d1",
   "outputs": [],
   "execution_count": 20
  },
  {
   "metadata": {
    "ExecuteTime": {
     "end_time": "2025-09-22T19:52:50.308507Z",
     "start_time": "2025-09-22T19:52:50.301695Z"
    }
   },
   "cell_type": "code",
   "source": [
    "mae = mean_absolute_error(y_test, y_pred)\n",
    "mse = mean_squared_error(y_test, y_pred)\n",
    "rmse = np.sqrt(mse)\n",
    "r2 = r2_score(y_test, y_pred)\n",
    "\n",
    "print(\"Linear Regression Results:\")\n",
    "print(f\"MAE:  {mae:.2f}\")\n",
    "print(f\"MSE:  {mse:.2f}\")\n",
    "print(f\"RMSE: {rmse:.2f}\")\n",
    "print(f\"R²:   {r2:.2f}\")"
   ],
   "id": "d083e69c48cc6b8b",
   "outputs": [
    {
     "name": "stdout",
     "output_type": "stream",
     "text": [
      "Linear Regression Results:\n",
      "MAE:  0.44\n",
      "MSE:  3.29\n",
      "RMSE: 1.81\n",
      "R²:   0.77\n"
     ]
    }
   ],
   "execution_count": 21
  },
  {
   "metadata": {
    "ExecuteTime": {
     "end_time": "2025-09-22T19:52:50.428022Z",
     "start_time": "2025-09-22T19:52:50.376612Z"
    }
   },
   "cell_type": "code",
   "source": [
    "cv_scores = cross_val_score(lin_reg, X, y, cv=5, scoring='r2')\n",
    "print(f\"Cross-Validated R² Scores: {cv_scores}\")\n",
    "print(f\"Average R²: {cv_scores.mean():.2f} ± {cv_scores.std():.2f}\")"
   ],
   "id": "8f3d26e4d62e6afd",
   "outputs": [
    {
     "name": "stdout",
     "output_type": "stream",
     "text": [
      "Cross-Validated R² Scores: [0.62444955 0.72270777 0.70876064 0.73198553 0.837785  ]\n",
      "Average R²: 0.73 ± 0.07\n"
     ]
    }
   ],
   "execution_count": 22
  },
  {
   "metadata": {
    "ExecuteTime": {
     "end_time": "2025-09-22T19:52:50.572756Z",
     "start_time": "2025-09-22T19:52:50.437167Z"
    }
   },
   "cell_type": "code",
   "source": [
    "residuals = y_test - y_pred\n",
    "plt.scatter(y_test, residuals, alpha=0.5)\n",
    "plt.axhline(y=0, color='r', linestyle='--')\n",
    "plt.xlabel('Actual Exam Scores')\n",
    "plt.ylabel('Residuals')\n",
    "plt.title('Residual Plot')\n",
    "plt.show()"
   ],
   "id": "56b1e5a4df9ce75e",
   "outputs": [
    {
     "data": {
      "text/plain": [
       "<Figure size 640x480 with 1 Axes>"
      ],
      "image/png": "[encoded data removed]"
     },
     "metadata": {},
     "output_type": "display_data",
     "jetTransient": {
      "display_id": null
     }
    }
   ],
   "execution_count": 23
  }
 ],
 "metadata": {
  "kernelspec": {
   "display_name": "Python 3",
   "language": "python",
   "name": "python3"
  },
  "language_info": {
   "codemirror_mode": {
    "name": "ipython",
    "version": 2
   },
   "file_extension": ".py",
   "mimetype": "text/x-python",
   "name": "python",
   "nbconvert_exporter": "python",
   "pygments_lexer": "ipython2",
   "version": "2.7.6"
  }
 },
 "nbformat": 4,
 "nbformat_minor": 5
}
